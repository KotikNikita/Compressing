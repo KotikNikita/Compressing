{
  "nbformat": 4,
  "nbformat_minor": 0,
  "metadata": {
    "colab": {
      "provenance": [],
      "collapsed_sections": []
    },
    "kernelspec": {
      "name": "python3",
      "display_name": "Python 3"
    },
    "language_info": {
      "name": "python"
    },
    "gpuClass": "standard",
    "widgets": {
      "application/vnd.jupyter.widget-state+json": {
        "f249e8c210c940a79bc41274d6598251": {
          "model_module": "@jupyter-widgets/controls",
          "model_name": "HBoxModel",
          "model_module_version": "1.5.0",
          "state": {
            "_dom_classes": [],
            "_model_module": "@jupyter-widgets/controls",
            "_model_module_version": "1.5.0",
            "_model_name": "HBoxModel",
            "_view_count": null,
            "_view_module": "@jupyter-widgets/controls",
            "_view_module_version": "1.5.0",
            "_view_name": "HBoxView",
            "box_style": "",
            "children": [
              "IPY_MODEL_48a7f45beb714a24ac8e146abb4ff8c1",
              "IPY_MODEL_3a8238e250834fc58e6e51acb924161d",
              "IPY_MODEL_a1948911100f4d1990a1cb805a87ba7d"
            ],
            "layout": "IPY_MODEL_4c464fd8c1424641bb520886ed722523"
          }
        },
        "48a7f45beb714a24ac8e146abb4ff8c1": {
          "model_module": "@jupyter-widgets/controls",
          "model_name": "HTMLModel",
          "model_module_version": "1.5.0",
          "state": {
            "_dom_classes": [],
            "_model_module": "@jupyter-widgets/controls",
            "_model_module_version": "1.5.0",
            "_model_name": "HTMLModel",
            "_view_count": null,
            "_view_module": "@jupyter-widgets/controls",
            "_view_module_version": "1.5.0",
            "_view_name": "HTMLView",
            "description": "",
            "description_tooltip": null,
            "layout": "IPY_MODEL_57f40e63d24840939096d1d5abd85f14",
            "placeholder": "​",
            "style": "IPY_MODEL_d2a7fe52103140ce840751efb8f41202",
            "value": "Downloading: 100%"
          }
        },
        "3a8238e250834fc58e6e51acb924161d": {
          "model_module": "@jupyter-widgets/controls",
          "model_name": "FloatProgressModel",
          "model_module_version": "1.5.0",
          "state": {
            "_dom_classes": [],
            "_model_module": "@jupyter-widgets/controls",
            "_model_module_version": "1.5.0",
            "_model_name": "FloatProgressModel",
            "_view_count": null,
            "_view_module": "@jupyter-widgets/controls",
            "_view_module_version": "1.5.0",
            "_view_name": "ProgressView",
            "bar_style": "success",
            "description": "",
            "description_tooltip": null,
            "layout": "IPY_MODEL_db050720d0e44685bb62858410cafa89",
            "max": 440473133,
            "min": 0,
            "orientation": "horizontal",
            "style": "IPY_MODEL_b892ffe07b2a46b2aabe8d357b1f0bb9",
            "value": 440473133
          }
        },
        "a1948911100f4d1990a1cb805a87ba7d": {
          "model_module": "@jupyter-widgets/controls",
          "model_name": "HTMLModel",
          "model_module_version": "1.5.0",
          "state": {
            "_dom_classes": [],
            "_model_module": "@jupyter-widgets/controls",
            "_model_module_version": "1.5.0",
            "_model_name": "HTMLModel",
            "_view_count": null,
            "_view_module": "@jupyter-widgets/controls",
            "_view_module_version": "1.5.0",
            "_view_name": "HTMLView",
            "description": "",
            "description_tooltip": null,
            "layout": "IPY_MODEL_2e3c72b05f624904ae31b90d028039ea",
            "placeholder": "​",
            "style": "IPY_MODEL_235c19daa6e34566b33dc04069c22bc4",
            "value": " 440M/440M [00:07&lt;00:00, 58.1MB/s]"
          }
        },
        "4c464fd8c1424641bb520886ed722523": {
          "model_module": "@jupyter-widgets/base",
          "model_name": "LayoutModel",
          "model_module_version": "1.2.0",
          "state": {
            "_model_module": "@jupyter-widgets/base",
            "_model_module_version": "1.2.0",
            "_model_name": "LayoutModel",
            "_view_count": null,
            "_view_module": "@jupyter-widgets/base",
            "_view_module_version": "1.2.0",
            "_view_name": "LayoutView",
            "align_content": null,
            "align_items": null,
            "align_self": null,
            "border": null,
            "bottom": null,
            "display": null,
            "flex": null,
            "flex_flow": null,
            "grid_area": null,
            "grid_auto_columns": null,
            "grid_auto_flow": null,
            "grid_auto_rows": null,
            "grid_column": null,
            "grid_gap": null,
            "grid_row": null,
            "grid_template_areas": null,
            "grid_template_columns": null,
            "grid_template_rows": null,
            "height": null,
            "justify_content": null,
            "justify_items": null,
            "left": null,
            "margin": null,
            "max_height": null,
            "max_width": null,
            "min_height": null,
            "min_width": null,
            "object_fit": null,
            "object_position": null,
            "order": null,
            "overflow": null,
            "overflow_x": null,
            "overflow_y": null,
            "padding": null,
            "right": null,
            "top": null,
            "visibility": null,
            "width": null
          }
        },
        "57f40e63d24840939096d1d5abd85f14": {
          "model_module": "@jupyter-widgets/base",
          "model_name": "LayoutModel",
          "model_module_version": "1.2.0",
          "state": {
            "_model_module": "@jupyter-widgets/base",
            "_model_module_version": "1.2.0",
            "_model_name": "LayoutModel",
            "_view_count": null,
            "_view_module": "@jupyter-widgets/base",
            "_view_module_version": "1.2.0",
            "_view_name": "LayoutView",
            "align_content": null,
            "align_items": null,
            "align_self": null,
            "border": null,
            "bottom": null,
            "display": null,
            "flex": null,
            "flex_flow": null,
            "grid_area": null,
            "grid_auto_columns": null,
            "grid_auto_flow": null,
            "grid_auto_rows": null,
            "grid_column": null,
            "grid_gap": null,
            "grid_row": null,
            "grid_template_areas": null,
            "grid_template_columns": null,
            "grid_template_rows": null,
            "height": null,
            "justify_content": null,
            "justify_items": null,
            "left": null,
            "margin": null,
            "max_height": null,
            "max_width": null,
            "min_height": null,
            "min_width": null,
            "object_fit": null,
            "object_position": null,
            "order": null,
            "overflow": null,
            "overflow_x": null,
            "overflow_y": null,
            "padding": null,
            "right": null,
            "top": null,
            "visibility": null,
            "width": null
          }
        },
        "d2a7fe52103140ce840751efb8f41202": {
          "model_module": "@jupyter-widgets/controls",
          "model_name": "DescriptionStyleModel",
          "model_module_version": "1.5.0",
          "state": {
            "_model_module": "@jupyter-widgets/controls",
            "_model_module_version": "1.5.0",
            "_model_name": "DescriptionStyleModel",
            "_view_count": null,
            "_view_module": "@jupyter-widgets/base",
            "_view_module_version": "1.2.0",
            "_view_name": "StyleView",
            "description_width": ""
          }
        },
        "db050720d0e44685bb62858410cafa89": {
          "model_module": "@jupyter-widgets/base",
          "model_name": "LayoutModel",
          "model_module_version": "1.2.0",
          "state": {
            "_model_module": "@jupyter-widgets/base",
            "_model_module_version": "1.2.0",
            "_model_name": "LayoutModel",
            "_view_count": null,
            "_view_module": "@jupyter-widgets/base",
            "_view_module_version": "1.2.0",
            "_view_name": "LayoutView",
            "align_content": null,
            "align_items": null,
            "align_self": null,
            "border": null,
            "bottom": null,
            "display": null,
            "flex": null,
            "flex_flow": null,
            "grid_area": null,
            "grid_auto_columns": null,
            "grid_auto_flow": null,
            "grid_auto_rows": null,
            "grid_column": null,
            "grid_gap": null,
            "grid_row": null,
            "grid_template_areas": null,
            "grid_template_columns": null,
            "grid_template_rows": null,
            "height": null,
            "justify_content": null,
            "justify_items": null,
            "left": null,
            "margin": null,
            "max_height": null,
            "max_width": null,
            "min_height": null,
            "min_width": null,
            "object_fit": null,
            "object_position": null,
            "order": null,
            "overflow": null,
            "overflow_x": null,
            "overflow_y": null,
            "padding": null,
            "right": null,
            "top": null,
            "visibility": null,
            "width": null
          }
        },
        "b892ffe07b2a46b2aabe8d357b1f0bb9": {
          "model_module": "@jupyter-widgets/controls",
          "model_name": "ProgressStyleModel",
          "model_module_version": "1.5.0",
          "state": {
            "_model_module": "@jupyter-widgets/controls",
            "_model_module_version": "1.5.0",
            "_model_name": "ProgressStyleModel",
            "_view_count": null,
            "_view_module": "@jupyter-widgets/base",
            "_view_module_version": "1.2.0",
            "_view_name": "StyleView",
            "bar_color": null,
            "description_width": ""
          }
        },
        "2e3c72b05f624904ae31b90d028039ea": {
          "model_module": "@jupyter-widgets/base",
          "model_name": "LayoutModel",
          "model_module_version": "1.2.0",
          "state": {
            "_model_module": "@jupyter-widgets/base",
            "_model_module_version": "1.2.0",
            "_model_name": "LayoutModel",
            "_view_count": null,
            "_view_module": "@jupyter-widgets/base",
            "_view_module_version": "1.2.0",
            "_view_name": "LayoutView",
            "align_content": null,
            "align_items": null,
            "align_self": null,
            "border": null,
            "bottom": null,
            "display": null,
            "flex": null,
            "flex_flow": null,
            "grid_area": null,
            "grid_auto_columns": null,
            "grid_auto_flow": null,
            "grid_auto_rows": null,
            "grid_column": null,
            "grid_gap": null,
            "grid_row": null,
            "grid_template_areas": null,
            "grid_template_columns": null,
            "grid_template_rows": null,
            "height": null,
            "justify_content": null,
            "justify_items": null,
            "left": null,
            "margin": null,
            "max_height": null,
            "max_width": null,
            "min_height": null,
            "min_width": null,
            "object_fit": null,
            "object_position": null,
            "order": null,
            "overflow": null,
            "overflow_x": null,
            "overflow_y": null,
            "padding": null,
            "right": null,
            "top": null,
            "visibility": null,
            "width": null
          }
        },
        "235c19daa6e34566b33dc04069c22bc4": {
          "model_module": "@jupyter-widgets/controls",
          "model_name": "DescriptionStyleModel",
          "model_module_version": "1.5.0",
          "state": {
            "_model_module": "@jupyter-widgets/controls",
            "_model_module_version": "1.5.0",
            "_model_name": "DescriptionStyleModel",
            "_view_count": null,
            "_view_module": "@jupyter-widgets/base",
            "_view_module_version": "1.2.0",
            "_view_name": "StyleView",
            "description_width": ""
          }
        }
      }
    },
    "accelerator": "GPU"
  },
  "cells": [
    {
      "cell_type": "code",
      "execution_count": 2,
      "metadata": {
        "colab": {
          "base_uri": "https://localhost:8080/"
        },
        "id": "hVMYglKAGXtE",
        "outputId": "0e7840c7-1d3b-4b41-f59a-76ca1d55f59d"
      },
      "outputs": [
        {
          "output_type": "stream",
          "name": "stdout",
          "text": [
            "--2022-11-03 20:15:03--  https://docs.google.com/uc?export=download&id=1cY7D-V6iEy45sJ84zbh7LKNFA7vKkn_A\n",
            "Resolving docs.google.com (docs.google.com)... 209.85.200.139, 209.85.200.113, 209.85.200.102, ...\n",
            "Connecting to docs.google.com (docs.google.com)|209.85.200.139|:443... connected.\n",
            "HTTP request sent, awaiting response... 303 See Other\n",
            "Location: https://doc-0g-6o-docs.googleusercontent.com/docs/securesc/ha0ro937gcuc7l7deffksulhg5h7mbp1/8fo61ccldhbcukv0om532gq8f44s3fmt/1667506500000/12963386087711609264/*/1cY7D-V6iEy45sJ84zbh7LKNFA7vKkn_A?e=download&uuid=826b0de2-978f-4337-a5bc-d9e1ac635e16 [following]\n",
            "Warning: wildcards not supported in HTTP.\n",
            "--2022-11-03 20:15:07--  https://doc-0g-6o-docs.googleusercontent.com/docs/securesc/ha0ro937gcuc7l7deffksulhg5h7mbp1/8fo61ccldhbcukv0om532gq8f44s3fmt/1667506500000/12963386087711609264/*/1cY7D-V6iEy45sJ84zbh7LKNFA7vKkn_A?e=download&uuid=826b0de2-978f-4337-a5bc-d9e1ac635e16\n",
            "Resolving doc-0g-6o-docs.googleusercontent.com (doc-0g-6o-docs.googleusercontent.com)... 209.85.146.132, 2607:f8b0:4001:c1f::84\n",
            "Connecting to doc-0g-6o-docs.googleusercontent.com (doc-0g-6o-docs.googleusercontent.com)|209.85.146.132|:443... connected.\n",
            "HTTP request sent, awaiting response... 200 OK\n",
            "Length: 30696129 (29M) [text/csv]\n",
            "Saving to: ‘news.csv’\n",
            "\n",
            "news.csv            100%[===================>]  29.27M   188MB/s    in 0.2s    \n",
            "\n",
            "2022-11-03 20:15:08 (188 MB/s) - ‘news.csv’ saved [30696129/30696129]\n",
            "\n",
            "Looking in indexes: https://pypi.org/simple, https://us-python.pkg.dev/colab-wheels/public/simple/\n",
            "Requirement already satisfied: transformers in /usr/local/lib/python3.7/dist-packages (4.24.0)\n",
            "Requirement already satisfied: pyyaml>=5.1 in /usr/local/lib/python3.7/dist-packages (from transformers) (6.0)\n",
            "Requirement already satisfied: tqdm>=4.27 in /usr/local/lib/python3.7/dist-packages (from transformers) (4.64.1)\n",
            "Requirement already satisfied: requests in /usr/local/lib/python3.7/dist-packages (from transformers) (2.23.0)\n",
            "Requirement already satisfied: numpy>=1.17 in /usr/local/lib/python3.7/dist-packages (from transformers) (1.21.6)\n",
            "Requirement already satisfied: tokenizers!=0.11.3,<0.14,>=0.11.1 in /usr/local/lib/python3.7/dist-packages (from transformers) (0.13.1)\n",
            "Requirement already satisfied: filelock in /usr/local/lib/python3.7/dist-packages (from transformers) (3.8.0)\n",
            "Requirement already satisfied: huggingface-hub<1.0,>=0.10.0 in /usr/local/lib/python3.7/dist-packages (from transformers) (0.10.1)\n",
            "Requirement already satisfied: regex!=2019.12.17 in /usr/local/lib/python3.7/dist-packages (from transformers) (2022.6.2)\n",
            "Requirement already satisfied: packaging>=20.0 in /usr/local/lib/python3.7/dist-packages (from transformers) (21.3)\n",
            "Requirement already satisfied: importlib-metadata in /usr/local/lib/python3.7/dist-packages (from transformers) (4.13.0)\n",
            "Requirement already satisfied: typing-extensions>=3.7.4.3 in /usr/local/lib/python3.7/dist-packages (from huggingface-hub<1.0,>=0.10.0->transformers) (4.1.1)\n",
            "Requirement already satisfied: pyparsing!=3.0.5,>=2.0.2 in /usr/local/lib/python3.7/dist-packages (from packaging>=20.0->transformers) (3.0.9)\n",
            "Requirement already satisfied: zipp>=0.5 in /usr/local/lib/python3.7/dist-packages (from importlib-metadata->transformers) (3.10.0)\n",
            "Requirement already satisfied: chardet<4,>=3.0.2 in /usr/local/lib/python3.7/dist-packages (from requests->transformers) (3.0.4)\n",
            "Requirement already satisfied: idna<3,>=2.5 in /usr/local/lib/python3.7/dist-packages (from requests->transformers) (2.10)\n",
            "Requirement already satisfied: certifi>=2017.4.17 in /usr/local/lib/python3.7/dist-packages (from requests->transformers) (2022.9.24)\n",
            "Requirement already satisfied: urllib3!=1.25.0,!=1.25.1,<1.26,>=1.21.1 in /usr/local/lib/python3.7/dist-packages (from requests->transformers) (1.24.3)\n"
          ]
        }
      ],
      "source": [
        "!wget --no-check-certificate 'https://docs.google.com/uc?export=download&id=1cY7D-V6iEy45sJ84zbh7LKNFA7vKkn_A' -O news.csv\n",
        "!pip install transformers"
      ]
    },
    {
      "cell_type": "code",
      "source": [
        "import matplotlib.pyplot as plt\n",
        "import pandas as pd\n",
        "import torch\n",
        "import time\n",
        "import numpy as np\n",
        "\n",
        "# Preliminaries\n",
        "\n",
        "import torch.nn as nn\n",
        "from torch.utils.data import Dataset, DataLoader\n",
        "from transformers import BertTokenizer, BertModel\n",
        "from transformers import DistilBertTokenizerFast, DistilBertModel\n",
        "import torch\n",
        "from tqdm import tqdm\n",
        "\n",
        "# Training\n",
        "\n",
        "import torch.optim as optim\n",
        "\n",
        "# Evaluation\n",
        "\n",
        "from sklearn.metrics import accuracy_score, classification_report, confusion_matrix\n",
        "from sklearn.model_selection import train_test_split\n",
        "from sklearn.preprocessing import LabelEncoder\n",
        "from sklearn.model_selection import train_test_split\n",
        "import seaborn as sns\n",
        "from numpy.random import RandomState\n",
        "import gc\n",
        "\n",
        "#pruning\n",
        "import torch.nn.utils.prune as prune\n",
        "import torch.nn.functional as F\n",
        "\n",
        "device = torch.device('cuda' if torch.cuda.is_available() else 'cpu')\n",
        "df = pd.read_csv('news.csv')\n",
        "\n",
        "encoder = LabelEncoder()\n",
        "df.label = encoder.fit_transform(df.label)\n",
        "df['titletext'] = df['title'] + ' ' + df['text']\n",
        "\n",
        "\n",
        "train_texts, test_texts, train_labels, test_labels = train_test_split(df['titletext'].values.tolist(), df['label'].values.tolist(), test_size=.2)\n",
        "train_texts, val_texts, train_labels, val_labels = train_test_split(train_texts, train_labels, test_size=.25)\n",
        "\n",
        "tokenizer = BertTokenizer.from_pretrained('bert-base-uncased')"
      ],
      "metadata": {
        "id": "tE7zyrirGtQc"
      },
      "execution_count": 3,
      "outputs": []
    },
    {
      "cell_type": "code",
      "source": [
        "# Determine the locations of auxiliary libraries and datasets.\n",
        "# `AUX_DATA_ROOT` is where 'tiny-imagenet-2022.zip' is.\n",
        "\n",
        "# Detect if we are in Google Colaboratory\n",
        "try:\n",
        "    import google.colab\n",
        "    IN_COLAB = True\n",
        "except ImportError:\n",
        "    IN_COLAB = False\n",
        "\n",
        "from pathlib import Path\n",
        "if IN_COLAB:\n",
        "    google.colab.drive.mount(\"/content/drive\")\n",
        "    \n",
        "    # Change this if you created the shortcut in a different location\n",
        "    AUX_DATA_ROOT = Path(\"/content/drive/My Drive/Transformer_compression\")\n",
        "    \n",
        "    assert AUX_DATA_ROOT.is_dir(), \"Have you forgot to 'Add a shortcut to Drive'?\"\n",
        "    \n",
        "    import sys\n",
        "    sys.path.append(str(AUX_DATA_ROOT))\n",
        "else:\n",
        "    AUX_DATA_ROOT = Path(\".\")"
      ],
      "metadata": {
        "colab": {
          "base_uri": "https://localhost:8080/"
        },
        "id": "1N-68qo4D5vs",
        "outputId": "3f2e2e2e-f058-4771-f036-a1ef8496ea45"
      },
      "execution_count": 4,
      "outputs": [
        {
          "output_type": "stream",
          "name": "stdout",
          "text": [
            "Drive already mounted at /content/drive; to attempt to forcibly remount, call drive.mount(\"/content/drive\", force_remount=True).\n"
          ]
        }
      ]
    },
    {
      "cell_type": "code",
      "source": [
        "%%time\n",
        "\n",
        "train_encodings = tokenizer(train_texts, truncation=True, padding=True)\n",
        "val_encodings = tokenizer(val_texts, truncation=True, padding=True)\n",
        "test_encodings = tokenizer(test_texts, truncation=True, padding=True)"
      ],
      "metadata": {
        "colab": {
          "base_uri": "https://localhost:8080/"
        },
        "id": "okFmqfLqGv74",
        "outputId": "624dbae7-5fc2-483b-c800-9797470af3d0"
      },
      "execution_count": 5,
      "outputs": [
        {
          "output_type": "stream",
          "name": "stdout",
          "text": [
            "CPU times: user 2min 18s, sys: 401 ms, total: 2min 18s\n",
            "Wall time: 2min 29s\n"
          ]
        }
      ]
    },
    {
      "cell_type": "code",
      "source": [
        "class FakeNewsDataset(Dataset):\n",
        "    def __init__(self, encodings, labels):\n",
        "        self.encodings = encodings\n",
        "        self.labels = labels\n",
        "\n",
        "    def __getitem__(self, idx):\n",
        "        item = {key: torch.tensor(val[idx]) for key, val in self.encodings.items()}\n",
        "        item['labels'] = torch.tensor(self.labels[idx])\n",
        "        return item\n",
        "\n",
        "    def __len__(self):\n",
        "        return len(self.labels)"
      ],
      "metadata": {
        "id": "cfHSCseqYy9O"
      },
      "execution_count": 6,
      "outputs": []
    },
    {
      "cell_type": "code",
      "source": [
        "train_dataset = FakeNewsDataset(train_encodings, train_labels)\n",
        "val_dataset = FakeNewsDataset(val_encodings, val_labels)\n",
        "test_dataset = FakeNewsDataset(test_encodings, test_labels)\n",
        "\n",
        "batch_size = 8\n",
        "train_iter = DataLoader(train_dataset, batch_size=batch_size, num_workers=2)\n",
        "valid_iter = DataLoader(val_dataset, batch_size=batch_size, num_workers=2)\n",
        "test_iter = DataLoader(test_dataset, batch_size=batch_size, num_workers=2)"
      ],
      "metadata": {
        "id": "aY6BQ1hTHyfI"
      },
      "execution_count": 7,
      "outputs": []
    },
    {
      "cell_type": "code",
      "source": [
        "\n",
        "\n",
        "class Bert_Model(nn.Module):\n",
        "    def __init__(self, classes):\n",
        "        super(Bert_Model, self).__init__()\n",
        "        self.bert = BertModel.from_pretrained('bert-base-uncased')\n",
        "        self.out = nn.Linear(self.bert.config.hidden_size, classes)\n",
        "\n",
        "    def forward(self, input, attention_mask):\n",
        "        bert_output = self.bert(input, attention_mask = attention_mask)\n",
        "        output = self.out(bert_output[1])\n",
        "        return output\n",
        "\n",
        "# Save and Load Functions\n",
        "\n",
        "def save_checkpoint(save_path, model, valid_loss):\n",
        "\n",
        "    if save_path == None:\n",
        "        return\n",
        "    \n",
        "    state_dict = {'model_state_dict': model.state_dict(),\n",
        "                  'valid_loss': valid_loss}\n",
        "    \n",
        "    torch.save(state_dict, save_path)\n",
        "    print(f'Model saved to ==> {save_path}')\n",
        "\n",
        "def load_checkpoint(load_path, model):\n",
        "    \n",
        "    if load_path==None:\n",
        "        return\n",
        "    \n",
        "    state_dict = torch.load(load_path, map_location=device)\n",
        "    print(f'Model loaded from <== {load_path}')\n",
        "    \n",
        "    model.load_state_dict(state_dict['model_state_dict'])\n",
        "    return state_dict['valid_loss']\n",
        "\n",
        "\n",
        "def save_metrics(save_path, train_loss_list, valid_loss_list, global_steps_list):\n",
        "\n",
        "    if save_path == None:\n",
        "        return\n",
        "    \n",
        "    state_dict = {'train_loss_list': train_loss_list,\n",
        "                  'valid_loss_list': valid_loss_list,\n",
        "                  'global_steps_list': global_steps_list}\n",
        "    \n",
        "    torch.save(state_dict, save_path)\n",
        "    print(f'Model saved to ==> {save_path}')\n",
        "\n",
        "\n",
        "def load_metrics(load_path):\n",
        "\n",
        "    if load_path==None:\n",
        "        return\n",
        "    \n",
        "    state_dict = torch.load(load_path, map_location=device)\n",
        "    print(f'Model loaded from <== {load_path}')\n",
        "    \n",
        "    return state_dict['train_loss_list'], state_dict['valid_loss_list'], state_dict['global_steps_list']\n",
        "\n",
        "\n",
        "def cleanup():\n",
        "    gc.collect()\n",
        "    torch.cuda.empty_cache()\n",
        "\n",
        "# Training Function\n",
        "\n",
        "def train(model,\n",
        "          optimizer,\n",
        "          criterion = nn.CrossEntropyLoss(),\n",
        "          train_loader = train_iter,\n",
        "          valid_loader = valid_iter,\n",
        "          num_epochs = 5,\n",
        "          eval_every = len(train_iter) // 2,\n",
        "          file_path = './',\n",
        "          best_valid_loss = float(\"Inf\")):\n",
        "    \n",
        "    # initialize running values\n",
        "    running_loss = 0.0\n",
        "    valid_running_loss = 0.0\n",
        "    global_step = 0\n",
        "    train_loss_list = []\n",
        "    valid_loss_list = []\n",
        "    global_steps_list = []\n",
        "\n",
        "    # training loop\n",
        "    model.train()\n",
        "    for epoch in range(num_epochs):\n",
        "        for model_inputs in train_loader:\n",
        "            output = model(model_inputs['input_ids'].to(device), model_inputs['attention_mask'].to(device))\n",
        "            loss = criterion(output, model_inputs['labels'].to(device))\n",
        "\n",
        "            optimizer.zero_grad()\n",
        "            loss.backward()\n",
        "            optimizer.step()\n",
        "\n",
        "            # update running values\n",
        "            running_loss += loss.item()\n",
        "            global_step += 1\n",
        "\n",
        "            # evaluation step\n",
        "            if global_step % eval_every == 0:\n",
        "                model.eval()\n",
        "                with torch.no_grad():                    \n",
        "\n",
        "                    # validation loop\n",
        "                    for model_inputs in valid_loader:\n",
        "                        output = model(model_inputs['input_ids'].to(device), model_inputs['attention_mask'].to(device))\n",
        "                        loss = criterion(output, model_inputs['labels'].to(device))\n",
        "                        \n",
        "                        valid_running_loss += loss.item()\n",
        "                        \n",
        "                        cleanup()\n",
        "\n",
        "                # evaluation\n",
        "                average_train_loss = running_loss / eval_every\n",
        "                average_valid_loss = valid_running_loss / len(valid_loader)\n",
        "                train_loss_list.append(average_train_loss)\n",
        "                valid_loss_list.append(average_valid_loss)\n",
        "                global_steps_list.append(global_step)\n",
        "\n",
        "                # resetting running values\n",
        "                running_loss = 0.0                \n",
        "                valid_running_loss = 0.0\n",
        "                model.train()\n",
        "\n",
        "                # print progress\n",
        "                print('Epoch [{}/{}], Step [{}/{}], Train Loss: {:.4f}, Valid Loss: {:.4f}'\n",
        "                      .format(epoch+1, num_epochs, global_step, num_epochs*len(train_loader),\n",
        "                              average_train_loss, average_valid_loss))\n",
        "                \n",
        "                # checkpoint\n",
        "                if best_valid_loss > average_valid_loss:\n",
        "                    best_valid_loss = average_valid_loss\n",
        "                    save_checkpoint(file_path + '/' + 'model.pt', model, best_valid_loss)\n",
        "                    save_metrics(file_path + '/' + 'metrics.pt', train_loss_list, valid_loss_list, global_steps_list)\n",
        "                    \n",
        "            cleanup()\n",
        "    \n",
        "    save_metrics(file_path + '/' + 'metrics.pt', train_loss_list, valid_loss_list, global_steps_list)\n",
        "    print('Finished Training!')\n",
        "\n",
        "# Validation Function\n",
        "\n",
        "def validate(model,\n",
        "          optimizer,\n",
        "          criterion = nn.CrossEntropyLoss(),\n",
        "          train_loader = train_iter,\n",
        "          valid_loader = valid_iter,\n",
        "          num_epochs = 1,\n",
        "          eval_every = len(valid_iter) // 2,\n",
        "          file_path = './',\n",
        "          best_valid_loss = float(\"Inf\")):\n",
        "    \n",
        "    # initialize running values\n",
        "    running_loss = 0.0\n",
        "    valid_running_loss = 0.0\n",
        "    global_step = 0\n",
        "    valid_loss_list = []\n",
        "    global_steps_list = []\n",
        "\n",
        "    # training loop\n",
        "    model.train()\n",
        "    for epoch in range(num_epochs):\n",
        "        for model_inputs in valid_loader:\n",
        "            # output = model(model_inputs['input_ids'].to(device), model_inputs['attention_mask'].to(device))\n",
        "            # loss = criterion(output, model_inputs['labels'].to(device))\n",
        "\n",
        "            # optimizer.zero_grad()\n",
        "            # loss.backward()\n",
        "            # optimizer.step()\n",
        "\n",
        "            # # update running values\n",
        "            # running_loss += loss.item()\n",
        "            global_step += 1\n",
        "\n",
        "            # evaluation step\n",
        "            \n",
        "            model.eval()\n",
        "            with torch.no_grad():                    \n",
        "\n",
        "                # validation loop\n",
        "                # for model_inputs in valid_loader:\n",
        "                output = model(model_inputs['input_ids'].to(device), model_inputs['attention_mask'].to(device))\n",
        "                loss = criterion(output, model_inputs['labels'].to(device))\n",
        "                \n",
        "                valid_running_loss += loss.item()\n",
        "                \n",
        "                cleanup()\n",
        "\n",
        "                # evaluation\n",
        "                # average_train_loss = running_loss / eval_every\n",
        "    average_valid_loss = valid_running_loss / len(valid_loader)\n",
        "    # train_loss_list.append(average_train_loss)\n",
        "    valid_loss_list.append(average_valid_loss)\n",
        "    global_steps_list.append(global_step)\n",
        "\n",
        "    # resetting running values\n",
        "    # running_loss = 0.0                \n",
        "    valid_running_loss = 0.0\n",
        "    # model.train()\n",
        "\n",
        "    # print progress\n",
        "    print('Epoch [{}/{}], Step [{}/{}], Valid Loss: {:.4f}'\n",
        "          .format(epoch+1, num_epochs, global_step, num_epochs*len(valid_loader),\n",
        "                    average_valid_loss))\n",
        "                \n",
        "                # checkpoint\n",
        "                # if best_valid_loss > average_valid_loss:\n",
        "                #     best_valid_loss = average_valid_loss\n",
        "                #     save_checkpoint(file_path + '/' + 'model.pt', model, best_valid_loss)\n",
        "                #     save_metrics(file_path + '/' + 'metrics.pt', train_loss_list, valid_loss_list, global_steps_list)\n",
        "                    \n",
        "    cleanup()\n",
        "    \n",
        "    # save_metrics(file_path + '/' + 'metrics.pt', train_loss_list, valid_loss_list, global_steps_list)\n",
        "    print('Finished Validation!')\n",
        "\n",
        "# Evaluation Function\n",
        "from sklearn.metrics import f1_score\n",
        "def evaluate(model, test_loader):\n",
        "    y_pred = []\n",
        "    y_true = []\n",
        "\n",
        "    model.eval()\n",
        "    eval_times = []\n",
        "    \n",
        "    with torch.no_grad():\n",
        "        for model_inputs in test_loader:\n",
        "                start = time.time()\n",
        "                output = model(model_inputs['input_ids'].to(device), model_inputs['attention_mask'].to(device))\n",
        "                eval_times.append(time.time() - start)\n",
        "                y_pred.extend(torch.argmax(output, 1).tolist())\n",
        "                y_true.extend(model_inputs['labels'].tolist())\n",
        "    # print(f'Average inference time = {np.array(eval_times[:-2]).mean()}')\n",
        "    # print('Classification Report:')\n",
        "    # print(classification_report(y_true, y_pred, labels=[1,0], digits=4))\n",
        "    \n",
        "    # cm = confusion_matrix(y_true, y_pred, labels=[1,0])\n",
        "    # ax= plt.subplot()\n",
        "    # sns.heatmap(cm, annot=True, ax = ax, cmap='Blues', fmt=\"d\")\n",
        "\n",
        "    # ax.set_title('Confusion Matrix')\n",
        "\n",
        "    # ax.set_xlabel('Predicted Labels')\n",
        "    # ax.set_ylabel('True Labels')\n",
        "\n",
        "    # ax.xaxis.set_ticklabels(['FAKE', 'REAL'])\n",
        "    # ax.yaxis.set_ticklabels(['FAKE', 'REAL'])\n",
        "    return accuracy_score(y_true, y_pred), f1_score(y_true, y_pred)"
      ],
      "metadata": {
        "id": "W6rF684MHK5V"
      },
      "execution_count": 36,
      "outputs": []
    },
    {
      "cell_type": "code",
      "source": [
        "train_dataset = FakeNewsDataset(train_encodings, train_labels)\n",
        "val_dataset = FakeNewsDataset(val_encodings, val_labels)\n",
        "test_dataset = FakeNewsDataset(test_encodings, test_labels)\n",
        "\n",
        "batch_size = 8\n",
        "train_iter = DataLoader(train_dataset, batch_size=batch_size, num_workers=2)\n",
        "valid_iter = DataLoader(val_dataset, batch_size=batch_size, num_workers=2)\n",
        "test_iter = DataLoader(test_dataset, batch_size=batch_size, num_workers=2)\n",
        "\n"
      ],
      "metadata": {
        "id": "rAi29VIyHSzn"
      },
      "execution_count": 9,
      "outputs": []
    },
    {
      "cell_type": "code",
      "source": [
        "model = Bert_Model(2).to(device)\n",
        "optimizer = optim.Adam(model.parameters(), lr=2e-5)\n",
        "\n",
        "train(model=model, optimizer=optimizer, num_epochs=5)"
      ],
      "metadata": {
        "colab": {
          "base_uri": "https://localhost:8080/",
          "height": 573,
          "referenced_widgets": [
            "f249e8c210c940a79bc41274d6598251",
            "48a7f45beb714a24ac8e146abb4ff8c1",
            "3a8238e250834fc58e6e51acb924161d",
            "a1948911100f4d1990a1cb805a87ba7d",
            "4c464fd8c1424641bb520886ed722523",
            "57f40e63d24840939096d1d5abd85f14",
            "d2a7fe52103140ce840751efb8f41202",
            "db050720d0e44685bb62858410cafa89",
            "b892ffe07b2a46b2aabe8d357b1f0bb9",
            "2e3c72b05f624904ae31b90d028039ea",
            "235c19daa6e34566b33dc04069c22bc4"
          ]
        },
        "id": "suRUmdyEH4HF",
        "outputId": "faf47588-1f51-46c3-b81d-a91d4f68cd9a"
      },
      "execution_count": 9,
      "outputs": [
        {
          "output_type": "display_data",
          "data": {
            "text/plain": [
              "Downloading:   0%|          | 0.00/440M [00:00<?, ?B/s]"
            ],
            "application/vnd.jupyter.widget-view+json": {
              "version_major": 2,
              "version_minor": 0,
              "model_id": "f249e8c210c940a79bc41274d6598251"
            }
          },
          "metadata": {}
        },
        {
          "output_type": "stream",
          "name": "stderr",
          "text": [
            "Some weights of the model checkpoint at bert-base-uncased were not used when initializing BertModel: ['cls.predictions.transform.dense.bias', 'cls.predictions.bias', 'cls.predictions.transform.LayerNorm.bias', 'cls.predictions.transform.dense.weight', 'cls.predictions.decoder.weight', 'cls.seq_relationship.bias', 'cls.seq_relationship.weight', 'cls.predictions.transform.LayerNorm.weight']\n",
            "- This IS expected if you are initializing BertModel from the checkpoint of a model trained on another task or with another architecture (e.g. initializing a BertForSequenceClassification model from a BertForPreTraining model).\n",
            "- This IS NOT expected if you are initializing BertModel from the checkpoint of a model that you expect to be exactly identical (initializing a BertForSequenceClassification model from a BertForSequenceClassification model).\n"
          ]
        },
        {
          "output_type": "stream",
          "name": "stdout",
          "text": [
            "Epoch [1/5], Step [238/2380], Train Loss: 0.2773, Valid Loss: 0.2598\n",
            "Model saved to ==> .//model.pt\n",
            "Model saved to ==> .//metrics.pt\n",
            "Epoch [1/5], Step [476/2380], Train Loss: 0.1256, Valid Loss: 0.1018\n",
            "Model saved to ==> .//model.pt\n",
            "Model saved to ==> .//metrics.pt\n",
            "Epoch [2/5], Step [714/2380], Train Loss: 0.0705, Valid Loss: 0.1419\n"
          ]
        },
        {
          "output_type": "error",
          "ename": "KeyboardInterrupt",
          "evalue": "ignored",
          "traceback": [
            "\u001b[0;31m---------------------------------------------------------------------------\u001b[0m",
            "\u001b[0;31mKeyboardInterrupt\u001b[0m                         Traceback (most recent call last)",
            "\u001b[0;32m<ipython-input-9-b28c3a676cfb>\u001b[0m in \u001b[0;36m<module>\u001b[0;34m\u001b[0m\n\u001b[1;32m      2\u001b[0m \u001b[0moptimizer\u001b[0m \u001b[0;34m=\u001b[0m \u001b[0moptim\u001b[0m\u001b[0;34m.\u001b[0m\u001b[0mAdam\u001b[0m\u001b[0;34m(\u001b[0m\u001b[0mmodel\u001b[0m\u001b[0;34m.\u001b[0m\u001b[0mparameters\u001b[0m\u001b[0;34m(\u001b[0m\u001b[0;34m)\u001b[0m\u001b[0;34m,\u001b[0m \u001b[0mlr\u001b[0m\u001b[0;34m=\u001b[0m\u001b[0;36m2e-5\u001b[0m\u001b[0;34m)\u001b[0m\u001b[0;34m\u001b[0m\u001b[0;34m\u001b[0m\u001b[0m\n\u001b[1;32m      3\u001b[0m \u001b[0;34m\u001b[0m\u001b[0m\n\u001b[0;32m----> 4\u001b[0;31m \u001b[0mtrain\u001b[0m\u001b[0;34m(\u001b[0m\u001b[0mmodel\u001b[0m\u001b[0;34m=\u001b[0m\u001b[0mmodel\u001b[0m\u001b[0;34m,\u001b[0m \u001b[0moptimizer\u001b[0m\u001b[0;34m=\u001b[0m\u001b[0moptimizer\u001b[0m\u001b[0;34m,\u001b[0m \u001b[0mnum_epochs\u001b[0m\u001b[0;34m=\u001b[0m\u001b[0;36m5\u001b[0m\u001b[0;34m)\u001b[0m\u001b[0;34m\u001b[0m\u001b[0;34m\u001b[0m\u001b[0m\n\u001b[0m",
            "\u001b[0;32m<ipython-input-7-92423fcf1c7c>\u001b[0m in \u001b[0;36mtrain\u001b[0;34m(model, optimizer, criterion, train_loader, valid_loader, num_epochs, eval_every, file_path, best_valid_loss)\u001b[0m\n\u001b[1;32m    110\u001b[0m                         \u001b[0mvalid_running_loss\u001b[0m \u001b[0;34m+=\u001b[0m \u001b[0mloss\u001b[0m\u001b[0;34m.\u001b[0m\u001b[0mitem\u001b[0m\u001b[0;34m(\u001b[0m\u001b[0;34m)\u001b[0m\u001b[0;34m\u001b[0m\u001b[0;34m\u001b[0m\u001b[0m\n\u001b[1;32m    111\u001b[0m \u001b[0;34m\u001b[0m\u001b[0m\n\u001b[0;32m--> 112\u001b[0;31m                         \u001b[0mcleanup\u001b[0m\u001b[0;34m(\u001b[0m\u001b[0;34m)\u001b[0m\u001b[0;34m\u001b[0m\u001b[0;34m\u001b[0m\u001b[0m\n\u001b[0m\u001b[1;32m    113\u001b[0m \u001b[0;34m\u001b[0m\u001b[0m\n\u001b[1;32m    114\u001b[0m                 \u001b[0;31m# evaluation\u001b[0m\u001b[0;34m\u001b[0m\u001b[0;34m\u001b[0m\u001b[0;34m\u001b[0m\u001b[0m\n",
            "\u001b[0;32m<ipython-input-7-92423fcf1c7c>\u001b[0m in \u001b[0;36mcleanup\u001b[0;34m()\u001b[0m\n\u001b[1;32m     60\u001b[0m \u001b[0;34m\u001b[0m\u001b[0m\n\u001b[1;32m     61\u001b[0m \u001b[0;32mdef\u001b[0m \u001b[0mcleanup\u001b[0m\u001b[0;34m(\u001b[0m\u001b[0;34m)\u001b[0m\u001b[0;34m:\u001b[0m\u001b[0;34m\u001b[0m\u001b[0;34m\u001b[0m\u001b[0m\n\u001b[0;32m---> 62\u001b[0;31m     \u001b[0mgc\u001b[0m\u001b[0;34m.\u001b[0m\u001b[0mcollect\u001b[0m\u001b[0;34m(\u001b[0m\u001b[0;34m)\u001b[0m\u001b[0;34m\u001b[0m\u001b[0;34m\u001b[0m\u001b[0m\n\u001b[0m\u001b[1;32m     63\u001b[0m     \u001b[0mtorch\u001b[0m\u001b[0;34m.\u001b[0m\u001b[0mcuda\u001b[0m\u001b[0;34m.\u001b[0m\u001b[0mempty_cache\u001b[0m\u001b[0;34m(\u001b[0m\u001b[0;34m)\u001b[0m\u001b[0;34m\u001b[0m\u001b[0;34m\u001b[0m\u001b[0m\n\u001b[1;32m     64\u001b[0m \u001b[0;34m\u001b[0m\u001b[0m\n",
            "\u001b[0;31mKeyboardInterrupt\u001b[0m: "
          ]
        }
      ]
    },
    {
      "cell_type": "code",
      "source": [
        "!ls drive/MyDrive/Transformer_compression/"
      ],
      "metadata": {
        "colab": {
          "base_uri": "https://localhost:8080/"
        },
        "id": "UxMLwOETaQip",
        "outputId": "64e35bc7-9282-464d-c847-f2550ecb657e"
      },
      "execution_count": 12,
      "outputs": [
        {
          "output_type": "stream",
          "name": "stdout",
          "text": [
            "compression\t       Generate_approptiate_model.ipynb     pruning_bert.ipynb\n",
            "compression_final.zip  Getting_familiar_with_MOROCCO.ipynb  Untitled0.ipynb\n",
            "docker_fake.ipynb      measure_perfomance.ipynb\n"
          ]
        }
      ]
    },
    {
      "cell_type": "code",
      "source": [
        "!cp drive/MyDrive/Transformer_compression/model_toy_bert.pt model.pt"
      ],
      "metadata": {
        "id": "FduusSz0aGAG"
      },
      "execution_count": 10,
      "outputs": []
    },
    {
      "cell_type": "code",
      "source": [
        "best_model_clear = Bert_Model(2).to(device)\n",
        "\n",
        "load_checkpoint('./model.pt', best_model_clear)"
      ],
      "metadata": {
        "colab": {
          "base_uri": "https://localhost:8080/"
        },
        "id": "E_MD-JilH7jF",
        "outputId": "10ef4e2c-11a4-4963-a646-1f1317208d78"
      },
      "execution_count": 11,
      "outputs": [
        {
          "output_type": "stream",
          "name": "stderr",
          "text": [
            "Some weights of the model checkpoint at bert-base-uncased were not used when initializing BertModel: ['cls.seq_relationship.bias', 'cls.predictions.decoder.weight', 'cls.seq_relationship.weight', 'cls.predictions.transform.LayerNorm.bias', 'cls.predictions.transform.dense.weight', 'cls.predictions.transform.LayerNorm.weight', 'cls.predictions.bias', 'cls.predictions.transform.dense.bias']\n",
            "- This IS expected if you are initializing BertModel from the checkpoint of a model trained on another task or with another architecture (e.g. initializing a BertForSequenceClassification model from a BertForPreTraining model).\n",
            "- This IS NOT expected if you are initializing BertModel from the checkpoint of a model that you expect to be exactly identical (initializing a BertForSequenceClassification model from a BertForSequenceClassification model).\n"
          ]
        },
        {
          "output_type": "stream",
          "name": "stdout",
          "text": [
            "Model loaded from <== ./model.pt\n"
          ]
        },
        {
          "output_type": "execute_result",
          "data": {
            "text/plain": [
              "0.10179417499827233"
            ]
          },
          "metadata": {},
          "execution_count": 11
        }
      ]
    },
    {
      "cell_type": "code",
      "source": [
        "start = time.time()\n",
        "acc, f1 = evaluate(best_model_clear, test_iter)\n",
        "print(f'total time: {time.time() - start}')"
      ],
      "metadata": {
        "id": "Kcpudepugzb0",
        "colab": {
          "base_uri": "https://localhost:8080/",
          "height": 503
        },
        "outputId": "9e5ea308-f8a8-480e-ba1d-433f342c92bb"
      },
      "execution_count": 13,
      "outputs": [
        {
          "output_type": "stream",
          "name": "stdout",
          "text": [
            "Average inference time = 0.022032749880651\n",
            "Classification Report:\n",
            "              precision    recall  f1-score   support\n",
            "\n",
            "           1     0.9785    0.9770    0.9777       651\n",
            "           0     0.9757    0.9773    0.9765       616\n",
            "\n",
            "    accuracy                         0.9771      1267\n",
            "   macro avg     0.9771    0.9771    0.9771      1267\n",
            "weighted avg     0.9771    0.9771    0.9771      1267\n",
            "\n",
            "total time: 38.790677547454834\n"
          ]
        },
        {
          "output_type": "display_data",
          "data": {
            "text/plain": [
              "<Figure size 432x288 with 2 Axes>"
            ],
            "image/png": "[encoded data removed]"
          },
          "metadata": {
            "needs_background": "light"
          }
        }
      ]
    },
    {
      "cell_type": "code",
      "source": [
        "f1"
      ],
      "metadata": {
        "colab": {
          "base_uri": "https://localhost:8080/"
        },
        "id": "A4zQTQZ9qd3U",
        "outputId": "225f11de-9e7f-49b1-bbfe-15cf8d588877"
      },
      "execution_count": 27,
      "outputs": [
        {
          "output_type": "execute_result",
          "data": {
            "text/plain": [
              "0.9637972646822205"
            ]
          },
          "metadata": {},
          "execution_count": 27
        }
      ]
    },
    {
      "cell_type": "code",
      "source": [
        "best_model_pruning = Bert_Model(2).to(device)\n",
        "\n",
        "load_checkpoint('./model.pt', best_model_pruning)"
      ],
      "metadata": {
        "id": "YeSUuZ57h4tP",
        "colab": {
          "base_uri": "https://localhost:8080/"
        },
        "outputId": "0dc3fb55-bcf0-43b8-bd29-8ca07020efaf"
      },
      "execution_count": 32,
      "outputs": [
        {
          "output_type": "stream",
          "name": "stderr",
          "text": [
            "Some weights of the model checkpoint at bert-base-uncased were not used when initializing BertModel: ['cls.seq_relationship.bias', 'cls.predictions.decoder.weight', 'cls.seq_relationship.weight', 'cls.predictions.transform.LayerNorm.bias', 'cls.predictions.transform.dense.weight', 'cls.predictions.transform.LayerNorm.weight', 'cls.predictions.bias', 'cls.predictions.transform.dense.bias']\n",
            "- This IS expected if you are initializing BertModel from the checkpoint of a model trained on another task or with another architecture (e.g. initializing a BertForSequenceClassification model from a BertForPreTraining model).\n",
            "- This IS NOT expected if you are initializing BertModel from the checkpoint of a model that you expect to be exactly identical (initializing a BertForSequenceClassification model from a BertForSequenceClassification model).\n"
          ]
        },
        {
          "output_type": "stream",
          "name": "stdout",
          "text": [
            "Model loaded from <== ./model.pt\n"
          ]
        },
        {
          "output_type": "execute_result",
          "data": {
            "text/plain": [
              "0.10179417499827233"
            ]
          },
          "metadata": {},
          "execution_count": 32
        }
      ]
    },
    {
      "cell_type": "code",
      "source": [
        "import torch.nn.utils.prune as prune\n",
        "import torch.nn.functional as F\n",
        "\n",
        "\n",
        "for name, module in best_model_pruning.named_modules() :\n",
        "    condition = isinstance(module, torch.nn.Linear) and (name.endswith('intermediate.dense') or name.endswith('output.dense') or name.startswith('bert.pooler.'))\n",
        "    condition = condition and (not name.endswith('attention.output.dense')) and (not name.endswith('pooler.dense'))\n",
        "    if condition:\n",
        "        # print(name, module)\n",
        "        prune.l1_unstructured(module, name='weight', amount=0.5)#0.3 nice\n",
        "        prune.remove(module, 'weight')"
      ],
      "metadata": {
        "id": "AktaB95PIOQX"
      },
      "execution_count": 33,
      "outputs": []
    },
    {
      "cell_type": "code",
      "source": [
        "from tqdm import tqdm\n",
        "amounts = np.array([0.4, 0.45, 0.475, 0.5, 0.525, 0.5, 0.6])\n",
        "accs = []\n",
        "f1s = []\n",
        "for amount in tqdm(amounts):\n",
        "    best_model_pruning = Bert_Model(2).to(device)\n",
        "    load_checkpoint('./model.pt', best_model_pruning)\n",
        "    for name, module in best_model_pruning.named_modules() :\n",
        "        condition = isinstance(module, torch.nn.Linear) and (name.endswith('intermediate.dense') or name.endswith('output.dense') or name.startswith('bert.pooler.'))\n",
        "        condition = condition and (not name.endswith('attention.output.dense')) and (not name.endswith('pooler.dense'))\n",
        "        if condition:\n",
        "            # print(name, module)\n",
        "            prune.l1_unstructured(module, name='weight', amount=amount)#0.3 nice\n",
        "            prune.remove(module, 'weight')\n",
        "    acc, f1 = evaluate(best_model_pruning, test_iter)\n",
        "    accs.append(acc)\n",
        "    f1s.append(f1s)\n",
        "accs = np.array(accs)\n",
        "# f1s = np.array(f1s)\n",
        "plt.plot(amounts, accs,label='accuracy')\n",
        "# plt.plot(f1s, accs,label='f1-score')\n",
        "# plt.axhline(count_parameters(best_model_clear),color='r', label='Original model')\n",
        "plt.xlabel('amount of pruned weights')\n",
        "plt.ylabel('metric')\n",
        "plt.title('l1-pruning')\n",
        "plt.legend()\n",
        "plt.show()"
      ],
      "metadata": {
        "colab": {
          "base_uri": "https://localhost:8080/",
          "height": 819
        },
        "id": "K1gjHMWiq0ic",
        "outputId": "fd7012f5-eb41-4cda-f31c-dc704f8ede61"
      },
      "execution_count": 38,
      "outputs": [
        {
          "output_type": "stream",
          "name": "stderr",
          "text": [
            "\r  0%|          | 0/7 [00:00<?, ?it/s]Some weights of the model checkpoint at bert-base-uncased were not used when initializing BertModel: ['cls.seq_relationship.bias', 'cls.predictions.decoder.weight', 'cls.seq_relationship.weight', 'cls.predictions.transform.LayerNorm.bias', 'cls.predictions.transform.dense.weight', 'cls.predictions.transform.LayerNorm.weight', 'cls.predictions.bias', 'cls.predictions.transform.dense.bias']\n",
            "- This IS expected if you are initializing BertModel from the checkpoint of a model trained on another task or with another architecture (e.g. initializing a BertForSequenceClassification model from a BertForPreTraining model).\n",
            "- This IS NOT expected if you are initializing BertModel from the checkpoint of a model that you expect to be exactly identical (initializing a BertForSequenceClassification model from a BertForSequenceClassification model).\n"
          ]
        },
        {
          "output_type": "stream",
          "name": "stdout",
          "text": [
            "Model loaded from <== ./model.pt\n"
          ]
        },
        {
          "output_type": "stream",
          "name": "stderr",
          "text": [
            "\r 14%|█▍        | 1/7 [00:46<04:37, 46.28s/it]Some weights of the model checkpoint at bert-base-uncased were not used when initializing BertModel: ['cls.seq_relationship.bias', 'cls.predictions.decoder.weight', 'cls.seq_relationship.weight', 'cls.predictions.transform.LayerNorm.bias', 'cls.predictions.transform.dense.weight', 'cls.predictions.transform.LayerNorm.weight', 'cls.predictions.bias', 'cls.predictions.transform.dense.bias']\n",
            "- This IS expected if you are initializing BertModel from the checkpoint of a model trained on another task or with another architecture (e.g. initializing a BertForSequenceClassification model from a BertForPreTraining model).\n",
            "- This IS NOT expected if you are initializing BertModel from the checkpoint of a model that you expect to be exactly identical (initializing a BertForSequenceClassification model from a BertForSequenceClassification model).\n"
          ]
        },
        {
          "output_type": "stream",
          "name": "stdout",
          "text": [
            "Model loaded from <== ./model.pt\n"
          ]
        },
        {
          "output_type": "stream",
          "name": "stderr",
          "text": [
            "\r 29%|██▊       | 2/7 [01:29<03:42, 44.44s/it]Some weights of the model checkpoint at bert-base-uncased were not used when initializing BertModel: ['cls.seq_relationship.bias', 'cls.predictions.decoder.weight', 'cls.seq_relationship.weight', 'cls.predictions.transform.LayerNorm.bias', 'cls.predictions.transform.dense.weight', 'cls.predictions.transform.LayerNorm.weight', 'cls.predictions.bias', 'cls.predictions.transform.dense.bias']\n",
            "- This IS expected if you are initializing BertModel from the checkpoint of a model trained on another task or with another architecture (e.g. initializing a BertForSequenceClassification model from a BertForPreTraining model).\n",
            "- This IS NOT expected if you are initializing BertModel from the checkpoint of a model that you expect to be exactly identical (initializing a BertForSequenceClassification model from a BertForSequenceClassification model).\n"
          ]
        },
        {
          "output_type": "stream",
          "name": "stdout",
          "text": [
            "Model loaded from <== ./model.pt\n"
          ]
        },
        {
          "output_type": "stream",
          "name": "stderr",
          "text": [
            "\r 43%|████▎     | 3/7 [02:11<02:54, 43.58s/it]Some weights of the model checkpoint at bert-base-uncased were not used when initializing BertModel: ['cls.seq_relationship.bias', 'cls.predictions.decoder.weight', 'cls.seq_relationship.weight', 'cls.predictions.transform.LayerNorm.bias', 'cls.predictions.transform.dense.weight', 'cls.predictions.transform.LayerNorm.weight', 'cls.predictions.bias', 'cls.predictions.transform.dense.bias']\n",
            "- This IS expected if you are initializing BertModel from the checkpoint of a model trained on another task or with another architecture (e.g. initializing a BertForSequenceClassification model from a BertForPreTraining model).\n",
            "- This IS NOT expected if you are initializing BertModel from the checkpoint of a model that you expect to be exactly identical (initializing a BertForSequenceClassification model from a BertForSequenceClassification model).\n"
          ]
        },
        {
          "output_type": "stream",
          "name": "stdout",
          "text": [
            "Model loaded from <== ./model.pt\n"
          ]
        },
        {
          "output_type": "stream",
          "name": "stderr",
          "text": [
            "\r 57%|█████▋    | 4/7 [02:54<02:09, 43.29s/it]Some weights of the model checkpoint at bert-base-uncased were not used when initializing BertModel: ['cls.seq_relationship.bias', 'cls.predictions.decoder.weight', 'cls.seq_relationship.weight', 'cls.predictions.transform.LayerNorm.bias', 'cls.predictions.transform.dense.weight', 'cls.predictions.transform.LayerNorm.weight', 'cls.predictions.bias', 'cls.predictions.transform.dense.bias']\n",
            "- This IS expected if you are initializing BertModel from the checkpoint of a model trained on another task or with another architecture (e.g. initializing a BertForSequenceClassification model from a BertForPreTraining model).\n",
            "- This IS NOT expected if you are initializing BertModel from the checkpoint of a model that you expect to be exactly identical (initializing a BertForSequenceClassification model from a BertForSequenceClassification model).\n"
          ]
        },
        {
          "output_type": "stream",
          "name": "stdout",
          "text": [
            "Model loaded from <== ./model.pt\n"
          ]
        },
        {
          "output_type": "stream",
          "name": "stderr",
          "text": [
            "\r 71%|███████▏  | 5/7 [03:37<01:26, 43.04s/it]Some weights of the model checkpoint at bert-base-uncased were not used when initializing BertModel: ['cls.seq_relationship.bias', 'cls.predictions.decoder.weight', 'cls.seq_relationship.weight', 'cls.predictions.transform.LayerNorm.bias', 'cls.predictions.transform.dense.weight', 'cls.predictions.transform.LayerNorm.weight', 'cls.predictions.bias', 'cls.predictions.transform.dense.bias']\n",
            "- This IS expected if you are initializing BertModel from the checkpoint of a model trained on another task or with another architecture (e.g. initializing a BertForSequenceClassification model from a BertForPreTraining model).\n",
            "- This IS NOT expected if you are initializing BertModel from the checkpoint of a model that you expect to be exactly identical (initializing a BertForSequenceClassification model from a BertForSequenceClassification model).\n"
          ]
        },
        {
          "output_type": "stream",
          "name": "stdout",
          "text": [
            "Model loaded from <== ./model.pt\n"
          ]
        },
        {
          "output_type": "stream",
          "name": "stderr",
          "text": [
            "\r 86%|████████▌ | 6/7 [04:20<00:42, 42.98s/it]Some weights of the model checkpoint at bert-base-uncased were not used when initializing BertModel: ['cls.seq_relationship.bias', 'cls.predictions.decoder.weight', 'cls.seq_relationship.weight', 'cls.predictions.transform.LayerNorm.bias', 'cls.predictions.transform.dense.weight', 'cls.predictions.transform.LayerNorm.weight', 'cls.predictions.bias', 'cls.predictions.transform.dense.bias']\n",
            "- This IS expected if you are initializing BertModel from the checkpoint of a model trained on another task or with another architecture (e.g. initializing a BertForSequenceClassification model from a BertForPreTraining model).\n",
            "- This IS NOT expected if you are initializing BertModel from the checkpoint of a model that you expect to be exactly identical (initializing a BertForSequenceClassification model from a BertForSequenceClassification model).\n"
          ]
        },
        {
          "output_type": "stream",
          "name": "stdout",
          "text": [
            "Model loaded from <== ./model.pt\n"
          ]
        },
        {
          "output_type": "stream",
          "name": "stderr",
          "text": [
            "100%|██████████| 7/7 [05:04<00:00, 43.43s/it]\n"
          ]
        },
        {
          "output_type": "display_data",
          "data": {
            "text/plain": [
              "<Figure size 432x288 with 1 Axes>"
            ],
            "image/png": "[encoded data removed]"
          },
          "metadata": {
            "needs_background": "light"
          }
        }
      ]
    },
    {
      "cell_type": "code",
      "source": [
        "best_model_SVD = Bert_Model(2).to(device)\n",
        "\n",
        "load_checkpoint('./model.pt', best_model_SVD)"
      ],
      "metadata": {
        "id": "ALXdwJYeiU8l",
        "colab": {
          "base_uri": "https://localhost:8080/"
        },
        "outputId": "4cb0aa20-cde5-41bb-b290-0b071d18f13c"
      },
      "execution_count": 21,
      "outputs": [
        {
          "output_type": "stream",
          "name": "stderr",
          "text": [
            "Some weights of the model checkpoint at bert-base-uncased were not used when initializing BertModel: ['cls.predictions.transform.dense.bias', 'cls.predictions.bias', 'cls.predictions.transform.LayerNorm.bias', 'cls.predictions.transform.dense.weight', 'cls.predictions.decoder.weight', 'cls.seq_relationship.bias', 'cls.seq_relationship.weight', 'cls.predictions.transform.LayerNorm.weight']\n",
            "- This IS expected if you are initializing BertModel from the checkpoint of a model trained on another task or with another architecture (e.g. initializing a BertForSequenceClassification model from a BertForPreTraining model).\n",
            "- This IS NOT expected if you are initializing BertModel from the checkpoint of a model that you expect to be exactly identical (initializing a BertForSequenceClassification model from a BertForSequenceClassification model).\n"
          ]
        },
        {
          "output_type": "stream",
          "name": "stdout",
          "text": [
            "Model loaded from <== ./model.pt\n"
          ]
        },
        {
          "output_type": "execute_result",
          "data": {
            "text/plain": [
              "0.10179417499827233"
            ]
          },
          "metadata": {},
          "execution_count": 21
        }
      ]
    },
    {
      "cell_type": "code",
      "source": [
        "from tqdm import tqdm\n",
        "class SVD_dec(nn.Module):\n",
        "    def __init__(self,input_size, output_size, r):\n",
        "        super(SVD_dec, self).__init__()\n",
        "        self.lin0 = nn.Linear(in_features=input_size, out_features=r, bias=False)\n",
        "        self.lin1 = nn.Linear(in_features=r, out_features=r, bias=False)\n",
        "        self.lin2 = nn.Linear(in_features=r, out_features=output_size, bias=True)\n",
        "\n",
        "    def forward(self, x):\n",
        "        # print(f'x_shape{x.size()}, self.lin0:{self.lin0.weight}')\n",
        "        output = self.lin0(x)\n",
        "        # print(f'output_shape{output.size()}, self.lin0:{self.lin1}')\n",
        "        output = self.lin1(output)\n",
        "        output = self.lin2(output)\n",
        "        return output\n",
        "# for name, module in best_model_SVD.named_modules() :\n",
        "#     r = 740\n",
        "#     # prune 20% of connections in all 2D-conv layers\n",
        "#     # if isinstance(module, torch.nn.Conv2d):\n",
        "#     #     prune.l1_unstructured(module, name='weight', amount=0.2)\n",
        "#     # prune 40% of connections in all linear layers\n",
        "#     condition = isinstance(module, torch.nn.Linear) and (name.endswith('intermediate.dense') or name.endswith('output.dense') or name.startswith('bert.pooler.'))\n",
        "#     condition = condition and (not name.endswith('attention.output.dense')) and (not name.endswith('pooler.dense'))\n",
        "#     if condition:\n",
        "#         # print(name, module)\n",
        "#         # print(module.weight)\n",
        "#         with torch.no_grad():\n",
        "#             u, s, v = torch.linalg.svd(module.weight)\n",
        "#             print(f'u:{u.size()}, s:{s.size()}, v:{v.size()}')\n",
        "#             U = u[:,:r]\n",
        "#             S = s[:r]\n",
        "#             V = v[:r,:]\n",
        "#             module.weight = torch.nn.Parameter(torch.Tensor(torch.matmul(torch.matmul(U, torch.diag_embed(S)), V)).to(device))\n",
        "#         # print(module.weight)\n",
        "#         # prune.l1_unstructured(module, name='weight', amount=0.4)#0.3 nice\n",
        "#         # prune.remove(module, 'weight')\n",
        "#         # prune.l1_unstructured(module, name='weight', amount=0.4)\n",
        "\n",
        "r = 680\n",
        "for i in tqdm(range(12)):\n",
        "    best_model_SVD.bert.encoder.layer[i].intermediate.dense = SVD_dec(768,3072,r)#nn.ModuleList([nn.Linear(in_features=768, out_features=r, bias=False),\n",
        "                                                          # nn.Linear(in_features=r, out_features=r, bias=False),\n",
        "                                                          # nn.Linear(in_features=r, out_features=3072, bias=True)])\n",
        "    u, s, v = torch.linalg.svd(best_model_clear.bert.encoder.layer[i].intermediate.dense.weight)\n",
        "    bias = best_model_clear.bert.encoder.layer[i].intermediate.dense.bias\n",
        "    U = u[:,:r]\n",
        "    S = s[:r]\n",
        "    V = v[:r,:]\n",
        "    best_model_SVD.bert.encoder.layer[i].intermediate.dense.lin0.weight = torch.nn.Parameter(torch.Tensor(V).to(device))\n",
        "    best_model_SVD.bert.encoder.layer[i].intermediate.dense.lin1.weight = torch.nn.Parameter(torch.Tensor(torch.diag(S)).to(device))\n",
        "    best_model_SVD.bert.encoder.layer[i].intermediate.dense.lin2.weight = torch.nn.Parameter(torch.Tensor(U).to(device))\n",
        "    best_model_SVD.bert.encoder.layer[i].intermediate.dense.lin2.bias = torch.nn.Parameter(bias.to(device))\n",
        "    \n",
        "    best_model_SVD.bert.encoder.layer[i].output.dense = SVD_dec(3072,768,r)#nn.ModuleList([nn.Linear(in_features=3072, out_features=r, bias=False),\n",
        "                                                          # nn.Linear(in_features=r, out_features=r, bias=False),\n",
        "                                                          # nn.Linear(in_features=r, out_features=768, bias=True)])\n",
        "    u, s, v = torch.linalg.svd(best_model_clear.bert.encoder.layer[i].output.dense.weight)\n",
        "    bias = best_model_clear.bert.encoder.layer[i].output.dense.bias\n",
        "    U = u[:,:r]\n",
        "    S = s[:r]\n",
        "    V = v[:r,:]\n",
        "    best_model_SVD.bert.encoder.layer[i].output.dense.lin0.weight = torch.nn.Parameter(torch.Tensor(V).to(device))\n",
        "    best_model_SVD.bert.encoder.layer[i].output.dense.lin1.weight = torch.nn.Parameter(torch.Tensor(torch.diag(S)).to(device))\n",
        "    best_model_SVD.bert.encoder.layer[i].output.dense.lin2.weight = torch.nn.Parameter(torch.Tensor(U).to(device))\n",
        "    best_model_SVD.bert.encoder.layer[i].output.dense.lin2.bias = torch.nn.Parameter(bias.to(device))"
      ],
      "metadata": {
        "id": "HsebIja0kRT2",
        "colab": {
          "base_uri": "https://localhost:8080/"
        },
        "outputId": "00f88922-14fb-47f5-a6f3-20f696d9626f"
      },
      "execution_count": 22,
      "outputs": [
        {
          "output_type": "stream",
          "name": "stderr",
          "text": [
            "100%|██████████| 12/12 [00:04<00:00,  2.99it/s]\n"
          ]
        }
      ]
    },
    {
      "cell_type": "code",
      "source": [
        "start = time.time()\n",
        "evaluate(best_model_SVD, test_iter)\n",
        "print(f'total time: {time.time() - start}')"
      ],
      "metadata": {
        "colab": {
          "base_uri": "https://localhost:8080/",
          "height": 503
        },
        "id": "5a-vMtmYlQJZ",
        "outputId": "d421a772-5023-4751-dae7-ab540a32be05"
      },
      "execution_count": 23,
      "outputs": [
        {
          "output_type": "stream",
          "name": "stdout",
          "text": [
            "Average inference time = 0.015720895900847805\n",
            "Classification Report:\n",
            "              precision    recall  f1-score   support\n",
            "\n",
            "           1     0.9901    0.8029    0.8867       624\n",
            "           0     0.8384    0.9922    0.9088       643\n",
            "\n",
            "    accuracy                         0.8990      1267\n",
            "   macro avg     0.9142    0.8976    0.8978      1267\n",
            "weighted avg     0.9131    0.8990    0.8979      1267\n",
            "\n",
            "total time: 48.981574058532715\n"
          ]
        },
        {
          "output_type": "display_data",
          "data": {
            "text/plain": [
              "<Figure size 432x288 with 2 Axes>"
            ],
            "image/png": "[encoded data removed]"
          },
          "metadata": {
            "needs_background": "light"
          }
        }
      ]
    },
    {
      "cell_type": "code",
      "source": [
        "# rs = []\n",
        "# for r in range(670, 760, step=10):\n",
        "#     rs.append(r)\n",
        "#     best_model = Bert_Model(2).to(device)\n",
        "#     load_checkpoint('./model.pt', best_model)\n",
        "#     for name, module in best_model.named_modules() :\n",
        "#         r = 740\n",
        "#         # prune 20% of connections in all 2D-conv layers\n",
        "#         # if isinstance(module, torch.nn.Conv2d):\n",
        "#         #     prune.l1_unstructured(module, name='weight', amount=0.2)\n",
        "#         # prune 40% of connections in all linear layers\n",
        "#         condition = isinstance(module, torch.nn.Linear) and (name.endswith('intermediate.dense') or name.endswith('output.dense') or name.startswith('bert.pooler.'))\n",
        "#         condition = condition and (not name.endswith('attention.output.dense')) and (not name.endswith('pooler.dense'))\n",
        "#         if condition:\n",
        "#             # print(name, module)\n",
        "#             # print(module.weight)\n",
        "#             with torch.no_grad():\n",
        "#                 u, s, v = torch.linalg.svd(module.weight)\n",
        "#                 print(f'u:{u.size()}, s:{s.size()}, v:{v.size()}')\n",
        "#                 U = u[:,:r]\n",
        "#                 S = s[:r]\n",
        "#                 V = v[:r,:]\n",
        "#                 module.weight = torch.nn.Parameter(torch.Tensor(torch.matmul(torch.matmul(U, torch.diag_embed(S)), V)).to(device))\n",
        "#             # print(module.weight)\n",
        "#             # prune.l1_unstructured(module, name='weight', amount=0.4)#0.3 nice\n",
        "#             # prune.remove(module, 'weight')\n",
        "#             # prune.l1_unstructured(module, name='weight', amount=0.4)\n",
        "#     evaluate(best_model, test_iter)\n",
        "#     # optimizer = optim.Adam(model.parameters(), lr=2e-5)\n",
        "\n",
        "#     # validate(model=best_model, optimizer=optimizer, num_epochs=5)\n",
        "#     # evaluate(best_model, test_iter)"
      ],
      "metadata": {
        "id": "ck4dnOJUX-Ox"
      },
      "execution_count": null,
      "outputs": []
    },
    {
      "cell_type": "code",
      "source": [
        "def count_parameters(model):\n",
        "    return sum(p.numel() for p in model.parameters() if p.requires_grad)\n",
        "normal_n_params = count_parameters(best_model_clear)\n",
        "normal_n_params"
      ],
      "metadata": {
        "colab": {
          "base_uri": "https://localhost:8080/"
        },
        "id": "VyEfgv91d3_k",
        "outputId": "436d76ed-d90f-4615-fb5d-67dea28c1a00"
      },
      "execution_count": null,
      "outputs": [
        {
          "output_type": "execute_result",
          "data": {
            "text/plain": [
              "109483778"
            ]
          },
          "metadata": {},
          "execution_count": 10
        }
      ]
    },
    {
      "cell_type": "code",
      "source": [
        "from tqdm import tqdm\n",
        "num_params = []\n",
        "# class SVD_dec(nn.Module):\n",
        "#     def __init__(self,input_size, output_size, r):\n",
        "#         super(SVD_dec, self).__init__()\n",
        "#         self.lin0 = nn.Linear(in_features=input_size, out_features=r, bias=False)\n",
        "#         self.lin1 = nn.Linear(in_features=r, out_features=r, bias=False)\n",
        "#         self.lin2 = nn.Linear(in_features=r, out_features=output_size, bias=True)\n",
        "\n",
        "#     def forward(self, x):\n",
        "#         # print(f'x_shape{x.size()}, self.lin0:{self.lin0.weight}')\n",
        "#         output = self.lin0(x)\n",
        "#         # print(f'output_shape{output.size()}, self.lin0:{self.lin1}')\n",
        "#         output = self.lin1(output)\n",
        "#         output = self.lin2(output)\n",
        "#         return output\n",
        "\n",
        "class SVD_dec(nn.Module):\n",
        "    def __init__(self,input_size, output_size, r):\n",
        "        super(SVD_dec, self).__init__()\n",
        "        self.lin0 = nn.Linear(in_features=input_size, out_features=r, bias=False)\n",
        "        # self.lin1 = nn.Linear(in_features=r, out_features=r, bias=False)\n",
        "        self.lin2 = nn.Linear(in_features=r, out_features=output_size, bias=True)\n",
        "\n",
        "    def forward(self, x):\n",
        "        # print(f'x_shape{x.size()}, self.lin0:{self.lin0.weight}')\n",
        "        output = self.lin0(x)\n",
        "        # print(f'output_shape{output.size()}, self.lin0:{self.lin1}')\n",
        "        # output = self.lin1(output)\n",
        "        output = self.lin2(output)\n",
        "        return output\n",
        "# for r in range(300,768, 50):\n",
        "#     best_model_SVD = Bert_Model(2).to(device)\n",
        "#     for i in tqdm(range(12)):\n",
        "#         best_model_SVD.bert.encoder.layer[i].intermediate.dense = SVD_dec(768,3072,r)#nn.ModuleList([nn.Linear(in_features=768, out_features=r, bias=False),\n",
        "#                                                               # nn.Linear(in_features=r, out_features=r, bias=False),\n",
        "#                                                               # nn.Linear(in_features=r, out_features=3072, bias=True)])\n",
        "#         u, s, v = torch.linalg.svd(best_model_clear.bert.encoder.layer[i].intermediate.dense.weight)\n",
        "#         bias = best_model_clear.bert.encoder.layer[i].intermediate.dense.bias\n",
        "#         U = u[:,:r]\n",
        "#         S = s[:r]\n",
        "#         V = v[:r,:]\n",
        "#         best_model_SVD.bert.encoder.layer[i].intermediate.dense.lin0.weight = torch.nn.Parameter(torch.Tensor(V).to(device))\n",
        "#         best_model_SVD.bert.encoder.layer[i].intermediate.dense.lin1.weight = torch.nn.Parameter(torch.Tensor(torch.diag(S)).to(device))\n",
        "#         best_model_SVD.bert.encoder.layer[i].intermediate.dense.lin2.weight = torch.nn.Parameter(torch.Tensor(U).to(device))\n",
        "#         best_model_SVD.bert.encoder.layer[i].intermediate.dense.lin2.bias = torch.nn.Parameter(bias.to(device))\n",
        "        \n",
        "#         best_model_SVD.bert.encoder.layer[i].output.dense = SVD_dec(3072,768,r)#nn.ModuleList([nn.Linear(in_features=3072, out_features=r, bias=False),\n",
        "#                                                               # nn.Linear(in_features=r, out_features=r, bias=False),\n",
        "#                                                               # nn.Linear(in_features=r, out_features=768, bias=True)])\n",
        "#         u, s, v = torch.linalg.svd(best_model_clear.bert.encoder.layer[i].output.dense.weight)\n",
        "#         bias = best_model_clear.bert.encoder.layer[i].output.dense.bias\n",
        "#         U = u[:,:r]\n",
        "#         S = s[:r]\n",
        "#         V = v[:r,:]\n",
        "#         best_model_SVD.bert.encoder.layer[i].output.dense.lin0.weight = torch.nn.Parameter(torch.Tensor(V).to(device))\n",
        "#         best_model_SVD.bert.encoder.layer[i].output.dense.lin1.weight = torch.nn.Parameter(torch.Tensor(torch.diag(S)).to(device))\n",
        "#         best_model_SVD.bert.encoder.layer[i].output.dense.lin2.weight = torch.nn.Parameter(torch.Tensor(U).to(device))\n",
        "#         best_model_SVD.bert.encoder.layer[i].output.dense.lin2.bias = torch.nn.Parameter(bias.to(device))\n",
        "#     num_params.append(count_parameters(best_model_SVD))\n",
        "\n",
        "for r in range(318,769, 50):\n",
        "    best_model_SVD = Bert_Model(2).to(device)\n",
        "    for i in tqdm(range(12)):\n",
        "        best_model_SVD.bert.encoder.layer[i].intermediate.dense = SVD_dec(768,3072,r)#nn.ModuleList([nn.Linear(in_features=768, out_features=r, bias=False),\n",
        "                                                              # nn.Linear(in_features=r, out_features=r, bias=False),\n",
        "                                                              # nn.Linear(in_features=r, out_features=3072, bias=True)])\n",
        "        u, s, v = torch.linalg.svd(best_model_clear.bert.encoder.layer[i].intermediate.dense.weight)\n",
        "        bias = best_model_clear.bert.encoder.layer[i].intermediate.dense.bias\n",
        "        U = u[:,:r]\n",
        "        S = s[:r]\n",
        "        V = v[:r,:]\n",
        "        best_model_SVD.bert.encoder.layer[i].intermediate.dense.lin0.weight = torch.nn.Parameter(torch.Tensor(V).to(device))\n",
        "        # best_model_SVD.bert.encoder.layer[i].intermediate.dense.lin1.weight = torch.nn.Parameter(torch.Tensor(torch.diag(S)).to(device))\n",
        "        best_model_SVD.bert.encoder.layer[i].intermediate.dense.lin2.weight = torch.nn.Parameter(torch.Tensor(torch.diag(U).matmul(S)).to(device))\n",
        "        best_model_SVD.bert.encoder.layer[i].intermediate.dense.lin2.bias = torch.nn.Parameter(bias.to(device))\n",
        "        \n",
        "        best_model_SVD.bert.encoder.layer[i].output.dense = SVD_dec(3072,768,r)#nn.ModuleList([nn.Linear(in_features=3072, out_features=r, bias=False),\n",
        "                                                              # nn.Linear(in_features=r, out_features=r, bias=False),\n",
        "                                                              # nn.Linear(in_features=r, out_features=768, bias=True)])\n",
        "        u, s, v = torch.linalg.svd(best_model_clear.bert.encoder.layer[i].output.dense.weight)\n",
        "        bias = best_model_clear.bert.encoder.layer[i].output.dense.bias\n",
        "        U = u[:,:r]\n",
        "        S = s[:r]\n",
        "        V = v[:r,:]\n",
        "        best_model_SVD.bert.encoder.layer[i].output.dense.lin0.weight = torch.nn.Parameter(torch.Tensor(V).to(device))\n",
        "        # best_model_SVD.bert.encoder.layer[i].output.dense.lin1.weight = torch.nn.Parameter(torch.Tensor(torch.diag(S)).to(device))\n",
        "        best_model_SVD.bert.encoder.layer[i].output.dense.lin2.weight = torch.nn.Parameter(torch.Tensor(torch.diag(U).matmul(S)).to(device))\n",
        "        best_model_SVD.bert.encoder.layer[i].output.dense.lin2.bias = torch.nn.Parameter(bias.to(device))\n",
        "    num_params.append(count_parameters(best_model_SVD))"
      ],
      "metadata": {
        "colab": {
          "base_uri": "https://localhost:8080/"
        },
        "id": "h7j-DxxWAQi1",
        "outputId": "f6bf17a3-13be-4f43-9ad2-3683622013dd"
      },
      "execution_count": null,
      "outputs": [
        {
          "output_type": "stream",
          "name": "stderr",
          "text": [
            "Some weights of the model checkpoint at bert-base-uncased were not used when initializing BertModel: ['cls.predictions.bias', 'cls.predictions.transform.dense.weight', 'cls.predictions.transform.LayerNorm.bias', 'cls.predictions.transform.dense.bias', 'cls.seq_relationship.bias', 'cls.predictions.transform.LayerNorm.weight', 'cls.seq_relationship.weight', 'cls.predictions.decoder.weight']\n",
            "- This IS expected if you are initializing BertModel from the checkpoint of a model trained on another task or with another architecture (e.g. initializing a BertForSequenceClassification model from a BertForPreTraining model).\n",
            "- This IS NOT expected if you are initializing BertModel from the checkpoint of a model that you expect to be exactly identical (initializing a BertForSequenceClassification model from a BertForSequenceClassification model).\n",
            "100%|██████████| 12/12 [00:19<00:00,  1.63s/it]\n",
            "Some weights of the model checkpoint at bert-base-uncased were not used when initializing BertModel: ['cls.predictions.bias', 'cls.predictions.transform.dense.weight', 'cls.predictions.transform.LayerNorm.bias', 'cls.predictions.transform.dense.bias', 'cls.seq_relationship.bias', 'cls.predictions.transform.LayerNorm.weight', 'cls.seq_relationship.weight', 'cls.predictions.decoder.weight']\n",
            "- This IS expected if you are initializing BertModel from the checkpoint of a model trained on another task or with another architecture (e.g. initializing a BertForSequenceClassification model from a BertForPreTraining model).\n",
            "- This IS NOT expected if you are initializing BertModel from the checkpoint of a model that you expect to be exactly identical (initializing a BertForSequenceClassification model from a BertForSequenceClassification model).\n",
            "100%|██████████| 12/12 [00:18<00:00,  1.51s/it]\n",
            "Some weights of the model checkpoint at bert-base-uncased were not used when initializing BertModel: ['cls.predictions.bias', 'cls.predictions.transform.dense.weight', 'cls.predictions.transform.LayerNorm.bias', 'cls.predictions.transform.dense.bias', 'cls.seq_relationship.bias', 'cls.predictions.transform.LayerNorm.weight', 'cls.seq_relationship.weight', 'cls.predictions.decoder.weight']\n",
            "- This IS expected if you are initializing BertModel from the checkpoint of a model trained on another task or with another architecture (e.g. initializing a BertForSequenceClassification model from a BertForPreTraining model).\n",
            "- This IS NOT expected if you are initializing BertModel from the checkpoint of a model that you expect to be exactly identical (initializing a BertForSequenceClassification model from a BertForSequenceClassification model).\n",
            "100%|██████████| 12/12 [00:18<00:00,  1.52s/it]\n",
            "Some weights of the model checkpoint at bert-base-uncased were not used when initializing BertModel: ['cls.predictions.bias', 'cls.predictions.transform.dense.weight', 'cls.predictions.transform.LayerNorm.bias', 'cls.predictions.transform.dense.bias', 'cls.seq_relationship.bias', 'cls.predictions.transform.LayerNorm.weight', 'cls.seq_relationship.weight', 'cls.predictions.decoder.weight']\n",
            "- This IS expected if you are initializing BertModel from the checkpoint of a model trained on another task or with another architecture (e.g. initializing a BertForSequenceClassification model from a BertForPreTraining model).\n",
            "- This IS NOT expected if you are initializing BertModel from the checkpoint of a model that you expect to be exactly identical (initializing a BertForSequenceClassification model from a BertForSequenceClassification model).\n",
            "100%|██████████| 12/12 [00:18<00:00,  1.53s/it]\n",
            "Some weights of the model checkpoint at bert-base-uncased were not used when initializing BertModel: ['cls.predictions.bias', 'cls.predictions.transform.dense.weight', 'cls.predictions.transform.LayerNorm.bias', 'cls.predictions.transform.dense.bias', 'cls.seq_relationship.bias', 'cls.predictions.transform.LayerNorm.weight', 'cls.seq_relationship.weight', 'cls.predictions.decoder.weight']\n",
            "- This IS expected if you are initializing BertModel from the checkpoint of a model trained on another task or with another architecture (e.g. initializing a BertForSequenceClassification model from a BertForPreTraining model).\n",
            "- This IS NOT expected if you are initializing BertModel from the checkpoint of a model that you expect to be exactly identical (initializing a BertForSequenceClassification model from a BertForSequenceClassification model).\n",
            "100%|██████████| 12/12 [00:18<00:00,  1.53s/it]\n",
            "Some weights of the model checkpoint at bert-base-uncased were not used when initializing BertModel: ['cls.predictions.bias', 'cls.predictions.transform.dense.weight', 'cls.predictions.transform.LayerNorm.bias', 'cls.predictions.transform.dense.bias', 'cls.seq_relationship.bias', 'cls.predictions.transform.LayerNorm.weight', 'cls.seq_relationship.weight', 'cls.predictions.decoder.weight']\n",
            "- This IS expected if you are initializing BertModel from the checkpoint of a model trained on another task or with another architecture (e.g. initializing a BertForSequenceClassification model from a BertForPreTraining model).\n",
            "- This IS NOT expected if you are initializing BertModel from the checkpoint of a model that you expect to be exactly identical (initializing a BertForSequenceClassification model from a BertForSequenceClassification model).\n",
            "100%|██████████| 12/12 [00:18<00:00,  1.53s/it]\n",
            "Some weights of the model checkpoint at bert-base-uncased were not used when initializing BertModel: ['cls.predictions.bias', 'cls.predictions.transform.dense.weight', 'cls.predictions.transform.LayerNorm.bias', 'cls.predictions.transform.dense.bias', 'cls.seq_relationship.bias', 'cls.predictions.transform.LayerNorm.weight', 'cls.seq_relationship.weight', 'cls.predictions.decoder.weight']\n",
            "- This IS expected if you are initializing BertModel from the checkpoint of a model trained on another task or with another architecture (e.g. initializing a BertForSequenceClassification model from a BertForPreTraining model).\n",
            "- This IS NOT expected if you are initializing BertModel from the checkpoint of a model that you expect to be exactly identical (initializing a BertForSequenceClassification model from a BertForSequenceClassification model).\n",
            "100%|██████████| 12/12 [00:18<00:00,  1.54s/it]\n",
            "Some weights of the model checkpoint at bert-base-uncased were not used when initializing BertModel: ['cls.predictions.bias', 'cls.predictions.transform.dense.weight', 'cls.predictions.transform.LayerNorm.bias', 'cls.predictions.transform.dense.bias', 'cls.seq_relationship.bias', 'cls.predictions.transform.LayerNorm.weight', 'cls.seq_relationship.weight', 'cls.predictions.decoder.weight']\n",
            "- This IS expected if you are initializing BertModel from the checkpoint of a model trained on another task or with another architecture (e.g. initializing a BertForSequenceClassification model from a BertForPreTraining model).\n",
            "- This IS NOT expected if you are initializing BertModel from the checkpoint of a model that you expect to be exactly identical (initializing a BertForSequenceClassification model from a BertForSequenceClassification model).\n",
            "100%|██████████| 12/12 [00:18<00:00,  1.54s/it]\n",
            "Some weights of the model checkpoint at bert-base-uncased were not used when initializing BertModel: ['cls.predictions.bias', 'cls.predictions.transform.dense.weight', 'cls.predictions.transform.LayerNorm.bias', 'cls.predictions.transform.dense.bias', 'cls.seq_relationship.bias', 'cls.predictions.transform.LayerNorm.weight', 'cls.seq_relationship.weight', 'cls.predictions.decoder.weight']\n",
            "- This IS expected if you are initializing BertModel from the checkpoint of a model trained on another task or with another architecture (e.g. initializing a BertForSequenceClassification model from a BertForPreTraining model).\n",
            "- This IS NOT expected if you are initializing BertModel from the checkpoint of a model that you expect to be exactly identical (initializing a BertForSequenceClassification model from a BertForSequenceClassification model).\n",
            "100%|██████████| 12/12 [00:18<00:00,  1.55s/it]\n",
            "Some weights of the model checkpoint at bert-base-uncased were not used when initializing BertModel: ['cls.predictions.bias', 'cls.predictions.transform.dense.weight', 'cls.predictions.transform.LayerNorm.bias', 'cls.predictions.transform.dense.bias', 'cls.seq_relationship.bias', 'cls.predictions.transform.LayerNorm.weight', 'cls.seq_relationship.weight', 'cls.predictions.decoder.weight']\n",
            "- This IS expected if you are initializing BertModel from the checkpoint of a model trained on another task or with another architecture (e.g. initializing a BertForSequenceClassification model from a BertForPreTraining model).\n",
            "- This IS NOT expected if you are initializing BertModel from the checkpoint of a model that you expect to be exactly identical (initializing a BertForSequenceClassification model from a BertForSequenceClassification model).\n",
            "100%|██████████| 12/12 [00:18<00:00,  1.55s/it]\n"
          ]
        }
      ]
    },
    {
      "cell_type": "code",
      "source": [
        "number_of_parameters = np.array(num_params)\n"
      ],
      "metadata": {
        "id": "_D82VmAwAvZ8"
      },
      "execution_count": null,
      "outputs": []
    },
    {
      "cell_type": "code",
      "source": [
        "plt.plot(np.arange(300,768, 50), number_of_parameters,label='SVD-compressed model')\n",
        "plt.axhline(normal_n_params,color='r', label='Original model')\n",
        "plt.xlabel('rank')\n",
        "plt.ylabel('Number of params')\n",
        "plt.title('Number of parameters with requires_grad=True')\n",
        "plt.legend()\n",
        "plt.show()"
      ],
      "metadata": {
        "colab": {
          "base_uri": "https://localhost:8080/",
          "height": 295
        },
        "id": "8lsobhbqCLF5",
        "outputId": "e96b8fcc-cdb6-44dc-be3f-00a17564ca72"
      },
      "execution_count": null,
      "outputs": [
        {
          "output_type": "display_data",
          "data": {
            "text/plain": [
              "<Figure size 432x288 with 1 Axes>"
            ],
            "image/png": "[encoded data removed]"
          },
          "metadata": {
            "needs_background": "light"
          }
        }
      ]
    },
    {
      "cell_type": "code",
      "source": [
        "number_of_parameters = np.array(num_params)\n",
        "\n",
        "plt.plot(np.arange(300,768, 50), number_of_parameters,label='SVD-compressed model')\n",
        "plt.axhline(count_parameters(best_model_clear),color='r', label='Original model')\n",
        "plt.xlabel('rank')\n",
        "plt.ylabel('Number of params')\n",
        "plt.title('Number of parameters with requires_grad=True')\n",
        "plt.legend()\n",
        "plt.show()"
      ],
      "metadata": {
        "colab": {
          "base_uri": "https://localhost:8080/",
          "height": 295
        },
        "id": "4Suv5VNXFZWE",
        "outputId": "f98bdb83-cb3a-432d-c692-f6bfc017f5a1"
      },
      "execution_count": null,
      "outputs": [
        {
          "output_type": "display_data",
          "data": {
            "text/plain": [
              "<Figure size 432x288 with 1 Axes>"
            ],
            "image/png": "[encoded data removed]"
          },
          "metadata": {
            "needs_background": "light"
          }
        }
      ]
    },
    {
      "cell_type": "code",
      "source": [
        "np.arange(300,768, 50)\n",
        "number_of_parameters"
      ],
      "metadata": {
        "colab": {
          "base_uri": "https://localhost:8080/"
        },
        "id": "styxiDeUKSqy",
        "outputId": "a88c5105-d342-49ad-8b5c-f9b4cc2d3109"
      },
      "execution_count": null,
      "outputs": [
        {
          "output_type": "execute_result",
          "data": {
            "text/plain": [
              "array([67514138, 69818138, 72122138, 74426138, 76730138, 79034138,\n",
              "       81338138, 83642138, 85946138, 88250138])"
            ]
          },
          "metadata": {},
          "execution_count": 40
        }
      ]
    }
  ]
}